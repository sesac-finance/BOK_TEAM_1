{
 "cells": [
  {
   "cell_type": "code",
   "execution_count": null,
   "metadata": {},
   "outputs": [],
   "source": [
    "import scrapy\n",
    "import requests\n",
    "from bs4 import BeautifulSoup"
   ]
  },
  {
   "cell_type": "code",
   "execution_count": 11,
   "metadata": {},
   "outputs": [
    {
     "name": "stdout",
     "output_type": "stream",
     "text": [
      ">>> 네이버 채권분석 리포트 웹 페이지의 응답 코드: 200\n",
      "147\n"
     ]
    }
   ],
   "source": [
    "# 쿼리 스트링(Query String)을 제외한 기본 URL을 base_url에 할당\n",
    "base_url = \"https://finance.naver.com/research/debenture_list.naver\"\n",
    "\n",
    "# 쿼리 스트링(Query String)을 query_url에 할당\n",
    "query_url = \"?&page=1\"\n",
    "\n",
    "# GET 요청을 보내고 응답 코드를 출력\n",
    "res = requests.get(base_url + query_url) # , headers = headers\n",
    "print(\">>> 네이버 채권분석 리포트 웹 페이지의 응답 코드: {0}\".format(res.status_code))\n",
    "\n",
    "# 해당 웹 페이지의 HTML 코드 텍스트를 가져와 변수 soup에 할당\n",
    "soup = BeautifulSoup(res.text, \"html.parser\")\n",
    "\n",
    "# HTML 코드에서 웹 페이지 주소 쿼리 스트링(Query String)에 사용할 pageNm 추출\n",
    "pageNm = int(soup.select_one(\"table.Nnavi td.pgRR a\").attrs[\"href\"].split(\"=\")[1])\n",
    "\n",
    "\n",
    "print(pageNm)"
   ]
  }
 ],
 "metadata": {
  "kernelspec": {
   "display_name": "Python 3.9.13 ('base')",
   "language": "python",
   "name": "python3"
  },
  "language_info": {
   "codemirror_mode": {
    "name": "ipython",
    "version": 3
   },
   "file_extension": ".py",
   "mimetype": "text/x-python",
   "name": "python",
   "nbconvert_exporter": "python",
   "pygments_lexer": "ipython3",
   "version": "3.9.13"
  },
  "orig_nbformat": 4,
  "vscode": {
   "interpreter": {
    "hash": "935a784c055a7b21e047e8af34b03b2623f1270c39444abb64202b2d0bed73c4"
   }
  }
 },
 "nbformat": 4,
 "nbformat_minor": 2
}
